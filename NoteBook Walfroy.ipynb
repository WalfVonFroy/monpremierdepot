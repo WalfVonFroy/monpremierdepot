{
 "cells": [
  {
   "cell_type": "markdown",
   "id": "88381d7f",
   "metadata": {},
   "source": [
    "# Mon document exécutable"
   ]
  },
  {
   "cell_type": "markdown",
   "id": "1eaa354c",
   "metadata": {},
   "source": [
    "## Partie 1 - Bip"
   ]
  },
  {
   "cell_type": "markdown",
   "id": "cfec70f0",
   "metadata": {},
   "source": [
    "### Partie 1.1 - Bipbip"
   ]
  },
  {
   "cell_type": "markdown",
   "id": "1b0899cb",
   "metadata": {},
   "source": [
    "**gras**"
   ]
  },
  {
   "cell_type": "markdown",
   "id": "55e2e490",
   "metadata": {},
   "source": [
    "*italique*"
   ]
  },
  {
   "cell_type": "markdown",
   "id": "586ce84f",
   "metadata": {},
   "source": [
    "lien brut <https://www.google.fr/search?q=pycharm&ei=KNiNYtKgAr-Jxc8Pi_KywAc&ved=0ahUKEwjS1KP8jfr3AhW_RPEDHQu5DHgQ4dUDCA0&uact=5&oq=pycharm&gs_lcp=Cgdnd3Mtd2l6EAMyBwgAELEDEEMyBAgAEEMyCwgAEIAEELEDEIMBMgcIABCxAxBDMgUIABCABDIFCAAQgAQyBQgAEIAEMgUIABCABDIFCAAQgAQyBQgAEIAEOgcIABBHELADOgcIABCwAxBDSgQIQRgASgQIRhgAUN0JWIIVYLEYaAFwAXgAgAHKAYgBygaSAQU0LjIuMZgBAKABAcgBCsABAQ&sclient=gws-wiz>"
   ]
  },
  {
   "cell_type": "code",
   "execution_count": null,
   "id": "318d2e9a",
   "metadata": {},
   "outputs": [],
   "source": [
    "Lien interne vers ma section"
   ]
  },
  {
   "cell_type": "code",
   "execution_count": null,
   "id": "853c5cd9",
   "metadata": {},
   "outputs": [],
   "source": [
    "Texte"
   ]
  },
  {
   "cell_type": "code",
   "execution_count": null,
   "id": "1edef446",
   "metadata": {},
   "outputs": [],
   "source": [
    "Ma section"
   ]
  },
  {
   "cell_type": "code",
   "execution_count": null,
   "id": "f3a9ceb0",
   "metadata": {},
   "outputs": [],
   "source": [
    "Texte"
   ]
  },
  {
   "cell_type": "markdown",
   "id": "a1a7dc44",
   "metadata": {},
   "source": [
    "Il est possible de faire des maths dans le texte (inline)\n",
    "$\n",
    "\n",
    "$"
   ]
  },
  {
   "cell_type": "code",
   "execution_count": null,
   "id": "f75163c9",
   "metadata": {},
   "outputs": [],
   "source": [
    "Il est possible de montrer du code\n",
    "avec 4 espaces\n",
    "\n",
    "def doit()\n",
    "    print(\"Yes i can!\")\n",
    "\n",
    "if True:\n",
    "    doit()"
   ]
  },
  {
   "cell_type": "code",
   "execution_count": null,
   "id": "96a39efc",
   "metadata": {},
   "outputs": [],
   "source": []
  }
 ],
 "metadata": {
  "kernelspec": {
   "display_name": "Python 3 (ipykernel)",
   "language": "python",
   "name": "python3"
  },
  "language_info": {
   "codemirror_mode": {
    "name": "ipython",
    "version": 3
   },
   "file_extension": ".py",
   "mimetype": "text/x-python",
   "name": "python",
   "nbconvert_exporter": "python",
   "pygments_lexer": "ipython3",
   "version": "3.9.7"
  }
 },
 "nbformat": 4,
 "nbformat_minor": 5
}
